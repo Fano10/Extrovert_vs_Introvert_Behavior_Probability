{
 "cells": [
  {
   "cell_type": "markdown",
   "id": "94a6ace6",
   "metadata": {},
   "source": [
    "# Le comportement des extravertis VS le comportement des introvertis"
   ]
  },
  {
   "cell_type": "markdown",
   "id": "92a3d7f3",
   "metadata": {},
   "source": [
    "## Introduction:\n",
    "\n",
    "Dans cet étude, nous allons faire de la probabilité sur le dataset. L'étude va tenir sur la présentation de l'échantillon, les types de variables, les variables aléaotoires, application des règles de calculs de probabilités et les loi de probabilité. \n",
    " \n",
    "Bien sûr à chaque étape, nous allons faire de l'interpretation et de commentaire.\n",
    "\n",
    "Notre objectif principal est de se familiariser avec le langage python dans le domaine de probabilité mais aussi d'appliquer toutes les théories qu'on a vu pour l'utiliser dans le monde réel.\n",
    "\n",
    "Sur ce passons au première étape"
   ]
  },
  {
   "cell_type": "markdown",
   "id": "a9661c0c",
   "metadata": {},
   "source": [
    "### 1) Présentation du dataset:\n",
    "\n",
    "Notre donnée ou dataset est basée sur une étude qui porte sur le comportement des extravertis et des introvertis. Le but de l'étude est de savoir plus le quotidient de ces deux types de personnalités, leur mode de vie et ainsi ses intéractions sociaux.\n",
    "\n",
    "Les variables dans le dataset sont:\n",
    "- Temps passé seul (**Time_spent_Alone**) : Heures passées seul chaque jour (0 à 11).\n",
    "- Peur de la scène (**Stage_fear**) : Présence du trac (Oui/Non).\n",
    "- Présence d’événements sociaux (**Social_event_attendance**) : Fréquence des événements sociaux (0 à 10).\n",
    "- Sorties(**Going_outside**) : Fréquence des sorties (0 à 7).\n",
    "- Épuisé après les activités sociales(**Drained_after_socializing**) : Sentiment d’épuisement après les activités sociales (Oui/Non).\n",
    "- Taille du cercle d’amis(**Friends_circle_size**) : Nombre d’amis proches (0 à 15).\n",
    "- Fréquence des publications(**Post_frequency**) : Fréquence des publications sur les réseaux sociaux (0 à 10).\n",
    "- Personnalité (**Personality**) : Variable cible (Extroverti/Introverti).\n",
    "\n",
    "Le dataset contient en total *2900* lignes\n",
    "\n",
    "Tout d'abord, voyons à quoi ressemble l' en-tête de l'ensemble de donnée:\n"
   ]
  },
  {
   "cell_type": "code",
   "execution_count": 30,
   "id": "a2307c48",
   "metadata": {},
   "outputs": [],
   "source": [
    "#On va utiliser pandas pour lire le csv\n",
    "import pandas as pd\n",
    "from scipy.stats import binom, norm, uniform\n",
    "\n",
    "def probabilite(x,n):\n",
    "    return round((x/n) * 100, 2)"
   ]
  },
  {
   "cell_type": "code",
   "execution_count": 2,
   "id": "dda629c9",
   "metadata": {},
   "outputs": [
    {
     "data": {
      "text/html": [
       "<div>\n",
       "<style scoped>\n",
       "    .dataframe tbody tr th:only-of-type {\n",
       "        vertical-align: middle;\n",
       "    }\n",
       "\n",
       "    .dataframe tbody tr th {\n",
       "        vertical-align: top;\n",
       "    }\n",
       "\n",
       "    .dataframe thead th {\n",
       "        text-align: right;\n",
       "    }\n",
       "</style>\n",
       "<table border=\"1\" class=\"dataframe\">\n",
       "  <thead>\n",
       "    <tr style=\"text-align: right;\">\n",
       "      <th></th>\n",
       "      <th>Time_spent_Alone</th>\n",
       "      <th>Stage_fear</th>\n",
       "      <th>Social_event_attendance</th>\n",
       "      <th>Going_outside</th>\n",
       "      <th>Drained_after_socializing</th>\n",
       "      <th>Friends_circle_size</th>\n",
       "      <th>Post_frequency</th>\n",
       "      <th>Personality</th>\n",
       "    </tr>\n",
       "  </thead>\n",
       "  <tbody>\n",
       "    <tr>\n",
       "      <th>0</th>\n",
       "      <td>4.0</td>\n",
       "      <td>No</td>\n",
       "      <td>4.0</td>\n",
       "      <td>6.0</td>\n",
       "      <td>No</td>\n",
       "      <td>13.0</td>\n",
       "      <td>5.0</td>\n",
       "      <td>Extrovert</td>\n",
       "    </tr>\n",
       "    <tr>\n",
       "      <th>1</th>\n",
       "      <td>9.0</td>\n",
       "      <td>Yes</td>\n",
       "      <td>0.0</td>\n",
       "      <td>0.0</td>\n",
       "      <td>Yes</td>\n",
       "      <td>0.0</td>\n",
       "      <td>3.0</td>\n",
       "      <td>Introvert</td>\n",
       "    </tr>\n",
       "    <tr>\n",
       "      <th>2</th>\n",
       "      <td>9.0</td>\n",
       "      <td>Yes</td>\n",
       "      <td>1.0</td>\n",
       "      <td>2.0</td>\n",
       "      <td>Yes</td>\n",
       "      <td>5.0</td>\n",
       "      <td>2.0</td>\n",
       "      <td>Introvert</td>\n",
       "    </tr>\n",
       "    <tr>\n",
       "      <th>3</th>\n",
       "      <td>0.0</td>\n",
       "      <td>No</td>\n",
       "      <td>6.0</td>\n",
       "      <td>7.0</td>\n",
       "      <td>No</td>\n",
       "      <td>14.0</td>\n",
       "      <td>8.0</td>\n",
       "      <td>Extrovert</td>\n",
       "    </tr>\n",
       "    <tr>\n",
       "      <th>4</th>\n",
       "      <td>3.0</td>\n",
       "      <td>No</td>\n",
       "      <td>9.0</td>\n",
       "      <td>4.0</td>\n",
       "      <td>No</td>\n",
       "      <td>8.0</td>\n",
       "      <td>5.0</td>\n",
       "      <td>Extrovert</td>\n",
       "    </tr>\n",
       "  </tbody>\n",
       "</table>\n",
       "</div>"
      ],
      "text/plain": [
       "   Time_spent_Alone Stage_fear  Social_event_attendance  Going_outside  \\\n",
       "0               4.0         No                      4.0            6.0   \n",
       "1               9.0        Yes                      0.0            0.0   \n",
       "2               9.0        Yes                      1.0            2.0   \n",
       "3               0.0         No                      6.0            7.0   \n",
       "4               3.0         No                      9.0            4.0   \n",
       "\n",
       "  Drained_after_socializing  Friends_circle_size  Post_frequency Personality  \n",
       "0                        No                 13.0             5.0   Extrovert  \n",
       "1                       Yes                  0.0             3.0   Introvert  \n",
       "2                       Yes                  5.0             2.0   Introvert  \n",
       "3                        No                 14.0             8.0   Extrovert  \n",
       "4                        No                  8.0             5.0   Extrovert  "
      ]
     },
     "execution_count": 2,
     "metadata": {},
     "output_type": "execute_result"
    }
   ],
   "source": [
    "echantillon = pd.read_csv(\"dataset.csv\")\n",
    "echantillon.head()"
   ]
  },
  {
   "cell_type": "markdown",
   "id": "d08cc013",
   "metadata": {},
   "source": [
    "### 2) Question d'étude:\n",
    "\n",
    "Maintenant nous allons poser toutes les questions intéréssants que nous allons répondre aux cours de cet étude:\n",
    "\n",
    "Selon l' échantillon, quelle est la probabilité: \n",
    "- a) d'être un extraverti et d' être introverti\n",
    "- b) d'avoir peur de la scène pour les deux cas\n",
    "- c) d' être épuisé après les activités socials pour les deux cas\n",
    "- d) d'être introverti et de passer moins de 5h seul\n",
    "- e) d'être extraverti et de passer plus de 5h seul\n",
    "- f) d'être introvertit et d 'avoir au maximum que deux amis\n",
    "- g) d'être extravertit et d' avoir au minumum dix amis\n",
    "\n",
    "\n",
    "En tenant compte que l'éspérance du **Going_outside** est la moyenne que les deux personnalités sors de chez lui pendant une journée:\n",
    "- h) Quelle est la probabilité qu'un introvertit ne sort presque jamais de chez lui (going_outside <=1) pendant une semaine et qu'un extrovertit n'est presque jamais chez lui pendant une semaine(going_outside >=6).\n",
    "\n",
    "\n",
    "Est-ce que je suis probablement un introvertit ou un extravertit si:\n",
    "- i) je reste seul pendant 3h par jour, je n' ai pas peur de la scène, je sors 2 événements sociaux par mois, je sors 2 à 3 fois par jours(fréquence = 2 ou 3), je ne suis pas épuisé après un activité social, j'ai 5 meilleurs amis et je n'aime pas les réseaux sociaux donc je ne publie rien\n",
    "\n",
    "Je me considère comme un extravertit et je demandais si je suis comme les autres ou pas:\n",
    " - j) je reste moins de 4h seul, j'ai un peu peur de monté sur scène par contre j'aime beaucoup les événements sociaux (j'y assiste 6 fois par semaine). Je sors souvent avec mes 3 meilleurs amis disant de fréquence de 4. Ça me dérange pas les activités  sociaux et je fais quelque publication de ma routine avec une fréquence de 3."
   ]
  },
  {
   "cell_type": "markdown",
   "id": "9455ace3",
   "metadata": {},
   "source": [
    "### 3) Réponse\n",
    "\n",
    "#### a) Quelle est la probabilité d'être un extraverti et d' être un introverti?"
   ]
  },
  {
   "cell_type": "code",
   "execution_count": 50,
   "id": "fa1fa6b9",
   "metadata": {},
   "outputs": [
    {
     "name": "stdout",
     "output_type": "stream",
     "text": [
      "La probabilité d' être un introverti est:  48.59 %\n",
      "La probabilité d' être un extraverti est:  51.41 %\n"
     ]
    }
   ],
   "source": [
    "compte_categorie = echantillon['Personality'].value_counts()\n",
    "nb_lignes = 2900\n",
    "nb_introvertit = compte_categorie['Introvert']\n",
    "nb_extravertit = compte_categorie['Extrovert']\n",
    "p_introvertit = probabilite(compte_categorie['Introvert'], nb_lignes)\n",
    "p_extravertit = probabilite(compte_categorie['Extrovert'], nb_lignes)\n",
    "print(\"La probabilité d' être un introverti est: \", p_introvertit , \"%\" )\n",
    "print(\"La probabilité d' être un extraverti est: \", p_extravertit , \"%\" )"
   ]
  },
  {
   "cell_type": "markdown",
   "id": "87047d7a",
   "metadata": {},
   "source": [
    "#### b) Quelle est la probabilité d'avoir peur de la scène pour les deux cas?"
   ]
  },
  {
   "cell_type": "code",
   "execution_count": 40,
   "id": "1ed0f2e8",
   "metadata": {},
   "outputs": [
    {
     "name": "stdout",
     "output_type": "stream",
     "text": [
      "La probabilité d'avoir peur de la scène pour une personne est:  49.88  %. Et donc son inverse est 50.12 %\n",
      "Personality  Extrovert  Introvert\n",
      "Stage_fear                       \n",
      "No                1338         79\n",
      "Yes                111       1299\n",
      "La probabilité d'avoir peur de la scène pour une personne extravertit est:  7.66 %\n",
      "La probabilité d'avoir peur de la scène pour une personne introvertit est:  94.27 %\n"
     ]
    }
   ],
   "source": [
    "# D'abord calculons la probabilité d'avoir peur de la scène pour une personne sans se baser de sa personalité\n",
    "\n",
    "avoir_peur = echantillon ['Stage_fear'].value_counts()\n",
    "p_avoir_peur = probabilite(avoir_peur['Yes'], avoir_peur['Yes'] + avoir_peur['No'])\n",
    "print(\"La probabilité d'avoir peur de la scène pour une personne est: \", p_avoir_peur, \" %. Et donc son inverse est\", 100 - p_avoir_peur, \"%\")\n",
    "\n",
    "#Maintenant calculons la probabilité d'avoir peur pour chaque personalité en utilisant un tableau de contigence\n",
    "\n",
    "tableau = pd.crosstab(echantillon['Stage_fear'], echantillon['Personality'])\n",
    "print (tableau)\n",
    "p_avoir_peur_extravertit = probabilite(tableau['Extrovert']['Yes'] , (tableau['Extrovert']['No'] + tableau['Extrovert']['Yes']))\n",
    "p_avoir_peur_introvertit = probabilite(tableau['Introvert']['Yes'] , (tableau['Introvert']['No'] + tableau['Introvert']['Yes']))\n",
    "print(\"La probabilité d'avoir peur de la scène pour une personne extravertit est: \", p_avoir_peur_extravertit , \"%\")\n",
    "print(\"La probabilité d'avoir peur de la scène pour une personne introvertit est: \", p_avoir_peur_introvertit, \"%\")\n",
    "\n",
    "\n",
    "\n",
    "\n",
    "\n",
    "\n"
   ]
  },
  {
   "cell_type": "markdown",
   "id": "9275d21c",
   "metadata": {},
   "source": [
    "#### c) Quelle est la probabilité d' être épuisé après les activités socials pour les deux cas"
   ]
  },
  {
   "cell_type": "code",
   "execution_count": 39,
   "id": "3d96bb7d",
   "metadata": {},
   "outputs": [
    {
     "name": "stdout",
     "output_type": "stream",
     "text": [
      "Personality                Extrovert  Introvert\n",
      "Drained_after_socializing                      \n",
      "No                              1362         79\n",
      "Yes                              111       1296\n",
      "La probabilité d'être épuisé après les activités socials pour une personne extravertit est:  7.54 %\n",
      "La probabilité d'être épuisé après les activités socials pour une personne introvertit est:  94.25 %\n"
     ]
    }
   ],
   "source": [
    "tableau = pd.crosstab(echantillon['Drained_after_socializing'], echantillon['Personality'])\n",
    "print(tableau)\n",
    "p_etre_epuise_extravertit = probabilite(tableau['Extrovert']['Yes'] , (tableau['Extrovert']['No'] + tableau['Extrovert']['Yes']))\n",
    "p_etre_epuise_introvertit = probabilite(tableau['Introvert']['Yes'] , (tableau['Introvert']['No'] + tableau['Introvert']['Yes']))\n",
    "print(\"La probabilité d'être épuisé après les activités socials pour une personne extravertit est: \", p_etre_epuise_extravertit , \"%\")\n",
    "print(\"La probabilité d'être épuisé après les activités socials pour une personne introvertit est: \", p_etre_epuise_introvertit, \"%\")"
   ]
  },
  {
   "cell_type": "markdown",
   "id": "9c266954",
   "metadata": {},
   "source": [
    "#### d) Quelle est la probabilité d'être introverti et de passer moins de 5h seul"
   ]
  },
  {
   "cell_type": "code",
   "execution_count": 59,
   "id": "2822117b",
   "metadata": {},
   "outputs": [
    {
     "name": "stdout",
     "output_type": "stream",
     "text": [
      "Personality\n",
      "Extrovert    1354\n",
      "Introvert     241\n",
      "Name: count, dtype: int64\n",
      "241 1409\n",
      "La probabilit d' être introverti et de passer moins de 5h seul est:  8.31  %\n"
     ]
    }
   ],
   "source": [
    "# D'abord selectionons seulement les personnes qui passe moins de 5h seul\n",
    "\n",
    "filtre = echantillon[echantillon['Time_spent_Alone'] < 5]\n",
    "\n",
    "# Ensuite faisons un compte selon la personalité\n",
    "\n",
    "compte = filtre['Personality'].value_counts()\n",
    "print(compte)\n",
    "\n",
    "# Calculons la probabilit de passer moins de 5h seul sachant qu'on est introvertit\n",
    "\n",
    "p_moins_introvertit = probabilite(compte['Introvert'], nb_introvertit)\n",
    "\n",
    "# Enfin calculons la probabilité d' être introverti et de passer moins de 5h seul\n",
    "\n",
    "p_moins_5_introvertit = round((p_introvertit/100) * (p_moins_introvertit/100) * 100 , 2)\n",
    "\n",
    "\n",
    "print(\"La probabilit d' être introverti et de passer moins de 5h seul est: \", p_moins_5_introvertit, \" %\")"
   ]
  },
  {
   "cell_type": "markdown",
   "id": "b7241b4f",
   "metadata": {},
   "source": [
    "#### e) Quelle est la probabilité d'être extraverti et de passer plus de 5h seul"
   ]
  },
  {
   "cell_type": "code",
   "execution_count": 61,
   "id": "35da65d9",
   "metadata": {},
   "outputs": [
    {
     "name": "stdout",
     "output_type": "stream",
     "text": [
      "Personality\n",
      "Introvert    962\n",
      "Extrovert    100\n",
      "Name: count, dtype: int64\n",
      "La probabilit d' être extravertit et de passer plus de 5h seul est:  3.45  %\n"
     ]
    }
   ],
   "source": [
    "# Selectionons seulement les personnes qui passe plus de 5h seul\n",
    "\n",
    "filtre = echantillon[echantillon['Time_spent_Alone'] > 5]\n",
    "\n",
    "# Ensuite faisons un compte selon la personalité\n",
    "\n",
    "compte = filtre['Personality'].value_counts()\n",
    "print(compte)\n",
    "\n",
    "# Calculons la probabilit de passer plus de 5h seul sachant qu'on est extravertit\n",
    "\n",
    "p_plus_extravertit = probabilite(compte['Extrovert'], nb_extravertit)\n",
    "\n",
    "# Calculons la probabilité d' être extravertit et de passer plus de 5h seul\n",
    "\n",
    "p_plus_5_extravertit = round((p_extravertit/100) * (p_plus_extravertit/100) * 100 , 2)\n",
    "\n",
    "\n",
    "print(\"La probabilit d' être extravertit et de passer plus de 5h seul est: \", p_plus_5_extravertit, \" %\")"
   ]
  },
  {
   "cell_type": "markdown",
   "id": "0e11bbbd",
   "metadata": {},
   "source": [
    "#### f) Quelle est la probabilité d'être introvertit et d 'avoir au maximum que deux amis"
   ]
  },
  {
   "cell_type": "code",
   "execution_count": 63,
   "id": "26a980f5",
   "metadata": {},
   "outputs": [
    {
     "name": "stdout",
     "output_type": "stream",
     "text": [
      "Personality\n",
      "Introvert    600\n",
      "Extrovert     61\n",
      "Name: count, dtype: int64\n",
      "La probabilit d' être introverti et d' avoir au maximum deux amis est:  20.69  %\n"
     ]
    }
   ],
   "source": [
    "# Selectionons seulement les personnes qui ont au maximum deux amis\n",
    "\n",
    "filtre = echantillon[echantillon['Friends_circle_size'] <= 2]\n",
    "\n",
    "# Ensuite faisons un compte selon la personalité\n",
    "\n",
    "compte = filtre['Personality'].value_counts()\n",
    "print(compte)\n",
    "\n",
    "# Calculons la probabilité d'avoir au maximum deux amis sachant qu'on est introvertit\n",
    "\n",
    "p_max_introvertit = probabilite(compte['Introvert'], nb_introvertit)\n",
    "\n",
    "# Enfin calculons la probabilité d' être introverti et d'avoir au maximum deux amis\n",
    "\n",
    "p_max_2_introvertit = round((p_introvertit/100) * (p_max_introvertit/100) * 100 , 2)\n",
    "\n",
    "\n",
    "print(\"La probabilit d' être introverti et d' avoir au maximum deux amis est: \", p_max_2_introvertit, \" %\")"
   ]
  },
  {
   "cell_type": "markdown",
   "id": "3ecb966d",
   "metadata": {},
   "source": [
    "#### g) Quelle est la probabilité d'être extravertit et d' avoir au minumum dix amis"
   ]
  },
  {
   "cell_type": "code",
   "execution_count": 65,
   "id": "8ab90ac5",
   "metadata": {},
   "outputs": [
    {
     "name": "stdout",
     "output_type": "stream",
     "text": [
      "Personality\n",
      "Extrovert    697\n",
      "Introvert     57\n",
      "Name: count, dtype: int64\n",
      "La probabilit d' être extravertit et d' avoir au minimum dix amis est:  24.03  %\n"
     ]
    }
   ],
   "source": [
    "# Selectionons seulement les personnes qui ont au minimum dix amis\n",
    "\n",
    "filtre = echantillon[echantillon['Friends_circle_size'] >= 10]\n",
    "\n",
    "# Ensuite faisons un compte selon la personalité\n",
    "\n",
    "compte = filtre['Personality'].value_counts()\n",
    "print(compte)\n",
    "\n",
    "# Calculons la probabilité d'avoir au minimum dix amis sachant qu'on est extravertit\n",
    "\n",
    "p_min_extravertit = probabilite(compte['Extrovert'], nb_extravertit)\n",
    "\n",
    "# Enfin calculons la probabilité d' être extravertit et d'avoir au minimum dix amis\n",
    "\n",
    "p_min_10_extravertit = round((p_extravertit/100) * (p_min_extravertit/100) * 100 , 2)\n",
    "\n",
    "\n",
    "print(\"La probabilit d' être extravertit et d' avoir au minimum dix amis est: \", p_min_10_extravertit, \" %\")"
   ]
  },
  {
   "cell_type": "code",
   "execution_count": null,
   "id": "a277c84c",
   "metadata": {},
   "outputs": [],
   "source": []
  }
 ],
 "metadata": {
  "kernelspec": {
   "display_name": "Python 3 (ipykernel)",
   "language": "python",
   "name": "python3"
  },
  "language_info": {
   "codemirror_mode": {
    "name": "ipython",
    "version": 3
   },
   "file_extension": ".py",
   "mimetype": "text/x-python",
   "name": "python",
   "nbconvert_exporter": "python",
   "pygments_lexer": "ipython3",
   "version": "3.11.7"
  }
 },
 "nbformat": 4,
 "nbformat_minor": 5
}
