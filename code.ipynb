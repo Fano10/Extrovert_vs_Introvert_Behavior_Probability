{
 "cells": [
  {
   "cell_type": "markdown",
   "id": "a79642f1",
   "metadata": {},
   "source": [
    "# Le comportement des extravertis VS le comportement des introvertis"
   ]
  },
  {
   "cell_type": "markdown",
   "id": "7336a0b1",
   "metadata": {},
   "source": [
    "## Introduction:\n",
    "\n",
    "Dans cet étude, nous allons faire de la probabilité sur le dataset. L'étude va tenir sur la présentation de l'échantillon, les types de variables, les variables aléaotoires, application des règles de calculs de probabilités et les loi de probabilité. \n",
    " \n",
    "Bien sûr à chaque étape, nous allons faire de l'interpretation et de commentaire.\n",
    "\n",
    "Notre objectif principal est de se familiariser avec le langage python dans le domaine de probabilité mais aussi d'appliquer toutes les théories qu'on a vu pour l'utiliser dans le monde réel.\n",
    "\n",
    "Sur ce passons au première étape"
   ]
  },
  {
   "cell_type": "markdown",
   "id": "d3f63d02",
   "metadata": {},
   "source": [
    "### 1) Présentation du dataset:\n",
    "\n",
    "Notre donnée ou dataset est basée sur une étude qui porte sur le comportement des extravertis et des introvertis. Le but de l'étude est de savoir plus le quotidient de ces deux types de personnalités, leur mode de vie et ainsi ses intéractions sociaux.\n",
    "\n",
    "Les variables dans le dataset sont:\n",
    "- Temps passé seul (**Time_spent_Alone**) : Heures passées seul chaque jour (0 à 11).\n",
    "- Peur de la scène (**Stage_fear**) : Présence du trac (Oui/Non).\n",
    "- Présence d’événements sociaux (**Social_event_attendance**) : Fréquence des événements sociaux (0 à 10).\n",
    "- Sorties(**Going_outside**) : Fréquence des sorties (0 à 7).\n",
    "- Épuisé après les activités sociales(**Drained_after_socializing**) : Sentiment d’épuisement après les activités sociales (Oui/Non).\n",
    "- Taille du cercle d’amis(**Friends_circle_size**) : Nombre d’amis proches (0 à 15).\n",
    "- Fréquence des publications(**Post_frequency**) : Fréquence des publications sur les réseaux sociaux (0 à 10).\n",
    "- Personnalité (**Personality**) : Variable cible (Extroverti/Introverti).\n",
    "\n",
    "Le dataset contient en total *2900* lignes\n",
    "\n",
    "Tout d'abord, voyons à quoi ressemble l' en-tête de l'ensemble de donnée:\n"
   ]
  },
  {
   "cell_type": "code",
   "execution_count": 1,
   "id": "06fe0c5c",
   "metadata": {},
   "outputs": [],
   "source": [
    "#On va utiliser pandas pour lire le csv\n",
    "import pandas as pd"
   ]
  },
  {
   "cell_type": "code",
   "execution_count": 2,
   "id": "eeb69ebe",
   "metadata": {},
   "outputs": [
    {
     "data": {
      "text/html": [
       "<div>\n",
       "<style scoped>\n",
       "    .dataframe tbody tr th:only-of-type {\n",
       "        vertical-align: middle;\n",
       "    }\n",
       "\n",
       "    .dataframe tbody tr th {\n",
       "        vertical-align: top;\n",
       "    }\n",
       "\n",
       "    .dataframe thead th {\n",
       "        text-align: right;\n",
       "    }\n",
       "</style>\n",
       "<table border=\"1\" class=\"dataframe\">\n",
       "  <thead>\n",
       "    <tr style=\"text-align: right;\">\n",
       "      <th></th>\n",
       "      <th>Time_spent_Alone</th>\n",
       "      <th>Stage_fear</th>\n",
       "      <th>Social_event_attendance</th>\n",
       "      <th>Going_outside</th>\n",
       "      <th>Drained_after_socializing</th>\n",
       "      <th>Friends_circle_size</th>\n",
       "      <th>Post_frequency</th>\n",
       "      <th>Personality</th>\n",
       "    </tr>\n",
       "  </thead>\n",
       "  <tbody>\n",
       "    <tr>\n",
       "      <th>0</th>\n",
       "      <td>4.0</td>\n",
       "      <td>No</td>\n",
       "      <td>4.0</td>\n",
       "      <td>6.0</td>\n",
       "      <td>No</td>\n",
       "      <td>13.0</td>\n",
       "      <td>5.0</td>\n",
       "      <td>Extrovert</td>\n",
       "    </tr>\n",
       "    <tr>\n",
       "      <th>1</th>\n",
       "      <td>9.0</td>\n",
       "      <td>Yes</td>\n",
       "      <td>0.0</td>\n",
       "      <td>0.0</td>\n",
       "      <td>Yes</td>\n",
       "      <td>0.0</td>\n",
       "      <td>3.0</td>\n",
       "      <td>Introvert</td>\n",
       "    </tr>\n",
       "    <tr>\n",
       "      <th>2</th>\n",
       "      <td>9.0</td>\n",
       "      <td>Yes</td>\n",
       "      <td>1.0</td>\n",
       "      <td>2.0</td>\n",
       "      <td>Yes</td>\n",
       "      <td>5.0</td>\n",
       "      <td>2.0</td>\n",
       "      <td>Introvert</td>\n",
       "    </tr>\n",
       "    <tr>\n",
       "      <th>3</th>\n",
       "      <td>0.0</td>\n",
       "      <td>No</td>\n",
       "      <td>6.0</td>\n",
       "      <td>7.0</td>\n",
       "      <td>No</td>\n",
       "      <td>14.0</td>\n",
       "      <td>8.0</td>\n",
       "      <td>Extrovert</td>\n",
       "    </tr>\n",
       "    <tr>\n",
       "      <th>4</th>\n",
       "      <td>3.0</td>\n",
       "      <td>No</td>\n",
       "      <td>9.0</td>\n",
       "      <td>4.0</td>\n",
       "      <td>No</td>\n",
       "      <td>8.0</td>\n",
       "      <td>5.0</td>\n",
       "      <td>Extrovert</td>\n",
       "    </tr>\n",
       "  </tbody>\n",
       "</table>\n",
       "</div>"
      ],
      "text/plain": [
       "   Time_spent_Alone Stage_fear  Social_event_attendance  Going_outside  \\\n",
       "0               4.0         No                      4.0            6.0   \n",
       "1               9.0        Yes                      0.0            0.0   \n",
       "2               9.0        Yes                      1.0            2.0   \n",
       "3               0.0         No                      6.0            7.0   \n",
       "4               3.0         No                      9.0            4.0   \n",
       "\n",
       "  Drained_after_socializing  Friends_circle_size  Post_frequency Personality  \n",
       "0                        No                 13.0             5.0   Extrovert  \n",
       "1                       Yes                  0.0             3.0   Introvert  \n",
       "2                       Yes                  5.0             2.0   Introvert  \n",
       "3                        No                 14.0             8.0   Extrovert  \n",
       "4                        No                  8.0             5.0   Extrovert  "
      ]
     },
     "execution_count": 2,
     "metadata": {},
     "output_type": "execute_result"
    }
   ],
   "source": [
    "echantillon = pd.read_csv(\"dataset.csv\")\n",
    "echantillon.head()"
   ]
  },
  {
   "cell_type": "markdown",
   "id": "bd3a7600",
   "metadata": {},
   "source": [
    "### 2) Question d'étude:\n",
    "\n",
    "Maintenant nous allons poser toutes les questions intéréssants que nous allons répondre aux cours de cet étude:\n",
    "\n",
    "Selon l' échantillon, quelle est la probabilité: \n",
    "- a) d'être un extraverti et d' être introverti\n",
    "- b) d'avoir peur de la scène pour les deux cas\n",
    "- c) d' être épuisé après les activités socials pour les deux cas\n",
    "- d) d'être introverti et de passer plus de 5h seul\n",
    "- e) d'être extraverti et de passer plus de 5h seul\n",
    "- f) d'être introvertit et d 'avoir au maximum que deux amis\n",
    "- g) d'être extravertit et d' avoir au minumum dix amis\n",
    "- h) de ne pas être épuisé pour un introvertit après un activité social\n",
    "\n",
    "\n",
    "En tenant compte que l'éspérance du **Going_outside** est la moyenne que les deux personnalités sors de chez lui pendant une journée:\n",
    "- i) Quelle est la probabilité qu'un introvertit ne sort presque jamais de chez lui (going_outside <=1) pendant une semaine et qu'un extrovertit n'est presque jamais chez lui pendant une semaine(going_outside >=6).\n",
    "\n",
    "\n",
    "Est-ce que je suis probablement un introvertit ou un extravertit si:\n",
    "- j) je reste seul pendant 3h par jour, je n' ai pas peur de la scène, je sors 2 événements sociaux par mois, je sors 2 à 3 fois par jours(fréquence = 2 ou 3), je ne suis pas épuisé après un activité social, j'ai 5 meilleurs amis et je n'aime pas les réseaux sociaux donc je ne publie rien\n",
    "\n",
    "Je me considère comme un extravertit et je demandais si je suis comme les autres ou pas:\n",
    " - k) je reste moins de 4h seul, j'ai un peu peur de monté sur scène par contre j'aime beaucoup les événements sociaux (j'y assiste 6 fois par semaine). Je sors souvent avec mes 3 meilleurs amis disant de fréquence de 4. Ça me dérange pas les activités  sociaux et je fais quelque publication de ma routine avec une fréquence de 3."
   ]
  },
  {
   "cell_type": "code",
   "execution_count": null,
   "id": "029e6fb3",
   "metadata": {},
   "outputs": [],
   "source": []
  }
 ],
 "metadata": {
  "kernelspec": {
   "display_name": "Python 3 (ipykernel)",
   "language": "python",
   "name": "python3"
  },
  "language_info": {
   "codemirror_mode": {
    "name": "ipython",
    "version": 3
   },
   "file_extension": ".py",
   "mimetype": "text/x-python",
   "name": "python",
   "nbconvert_exporter": "python",
   "pygments_lexer": "ipython3",
   "version": "3.11.7"
  }
 },
 "nbformat": 4,
 "nbformat_minor": 5
}
